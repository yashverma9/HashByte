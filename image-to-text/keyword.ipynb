{
 "metadata": {
  "language_info": {
   "codemirror_mode": {
    "name": "ipython",
    "version": 3
   },
   "file_extension": ".py",
   "mimetype": "text/x-python",
   "name": "python",
   "nbconvert_exporter": "python",
   "pygments_lexer": "ipython3",
   "version": "3.8.5-final"
  },
  "orig_nbformat": 2,
  "kernelspec": {
   "name": "python3",
   "display_name": "Python 3.8.5 64-bit",
   "metadata": {
    "interpreter": {
     "hash": "df0893f56f349688326838aaeea0de204df53a132722cbd565e54b24a8fec5f6"
    }
   }
  }
 },
 "nbformat": 4,
 "nbformat_minor": 2,
 "cells": [
  {
   "cell_type": "code",
   "execution_count": 1,
   "metadata": {},
   "outputs": [],
   "source": [
    "from nltk import tokenize\n",
    "from operator import itemgetter\n",
    "import math"
   ]
  },
  {
   "cell_type": "code",
   "execution_count": 2,
   "metadata": {},
   "outputs": [],
   "source": [
    "#Text from 4.jpeg training output on ocr model\n",
    "doc4 = ' Lithium ion batteries: A lithium-ion battery is a rechargeable move from the negative electrode to the positive battery type in which lithium ions Lision batteries use an intercalated electrode discharge and back when charging- metallic lithiumn lithium compound as the electrode material, compared to tge used in nonsrechargeable lithium battery. The anode is mnade of lithium, intercalated (reversibly included The cathode ig made upfrom lithium between the layers) in graphite. oxide Inaterialg, compounds, typically the three electro-active layered Lithiun cobalt oxide (LiCo0, Lithiun mnanganese oxide (LiMn,O Lthiumn nickeloxide KLiNiO) during liberating'\n",
    "\n",
    "#Text from 1.jpeg training output on ocr model\n",
    "doc1 = ' THE RUDEST BOOK EVER Shwetabh Gangwar is a novelist, speaker, professional problem-solver, and has over tWO million followers on YouTube. He dedicatedly solves problems sent tO him on his Instagram, and makes videos on as many as he can. He defnes it as the purpose ofhis life and what truly him meaning public peoples brings' "
   ]
  },
  {
   "cell_type": "code",
   "execution_count": 3,
   "metadata": {},
   "outputs": [],
   "source": [
    "import nltk\n",
    "#nltk.download('stopwords')\n",
    "#nltk.download('punkt')\n",
    "from nltk.corpus import stopwords\n",
    "from nltk.tokenize import word_tokenize \n",
    "stop_words = set(stopwords.words('english'))"
   ]
  },
  {
   "cell_type": "code",
   "execution_count": 13,
   "metadata": {},
   "outputs": [
    {
     "output_type": "stream",
     "name": "stdout",
     "text": [
      "91\n"
     ]
    }
   ],
   "source": [
    "total_words = doc4.split() #Replace variable text name here\n",
    "total_word_length = len(total_words)\n",
    "print(total_word_length)"
   ]
  },
  {
   "cell_type": "code",
   "execution_count": 14,
   "metadata": {},
   "outputs": [
    {
     "output_type": "stream",
     "name": "stdout",
     "text": [
      "3\n"
     ]
    }
   ],
   "source": [
    "total_sentences = tokenize.sent_tokenize(doc4) #Replace variable text name here\n",
    "total_sent_len = len(total_sentences)\n",
    "print(total_sent_len)"
   ]
  },
  {
   "cell_type": "code",
   "execution_count": 15,
   "metadata": {},
   "outputs": [
    {
     "output_type": "stream",
     "name": "stdout",
     "text": [
      "{'Lithium': 0.01098901098901099, 'ion': 0.01098901098901099, 'batteries:': 0.01098901098901099, 'A': 0.01098901098901099, 'lithium-ion': 0.01098901098901099, 'battery': 0.03296703296703297, 'rechargeable': 0.01098901098901099, 'move': 0.01098901098901099, 'negative': 0.01098901098901099, 'electrode': 0.03296703296703297, 'positive': 0.01098901098901099, 'type': 0.01098901098901099, 'lithium': 0.04395604395604396, 'ions': 0.01098901098901099, 'Lision': 0.01098901098901099, 'batteries': 0.01098901098901099, 'use': 0.01098901098901099, 'intercalated': 0.02197802197802198, 'discharge': 0.01098901098901099, 'back': 0.01098901098901099, 'charging-': 0.01098901098901099, 'metallic': 0.01098901098901099, 'lithiumn': 0.01098901098901099, 'compound': 0.01098901098901099, 'material,': 0.01098901098901099, 'compared': 0.01098901098901099, 'tge': 0.01098901098901099, 'used': 0.01098901098901099, 'nonsrechargeable': 0.01098901098901099, 'The': 0.02197802197802198, 'anode': 0.01098901098901099, 'mnade': 0.01098901098901099, 'lithium,': 0.01098901098901099, '(reversibly': 0.01098901098901099, 'included': 0.01098901098901099, 'cathode': 0.01098901098901099, 'ig': 0.01098901098901099, 'made': 0.01098901098901099, 'upfrom': 0.01098901098901099, 'layers)': 0.01098901098901099, 'graphite': 0.01098901098901099, 'oxide': 0.03296703296703297, 'Inaterialg,': 0.01098901098901099, 'compounds,': 0.01098901098901099, 'typically': 0.01098901098901099, 'three': 0.01098901098901099, 'electro-active': 0.01098901098901099, 'layered': 0.01098901098901099, 'Lithiun': 0.02197802197802198, 'cobalt': 0.01098901098901099, '(LiCo0,': 0.01098901098901099, 'mnanganese': 0.01098901098901099, '(LiMn,O': 0.01098901098901099, 'Lthiumn': 0.01098901098901099, 'nickeloxide': 0.01098901098901099, 'KLiNiO)': 0.01098901098901099, 'liberating': 0.01098901098901099}\n"
     ]
    }
   ],
   "source": [
    "tf_score = {}\n",
    "for each_word in total_words:\n",
    "    each_word = each_word.replace('.','')\n",
    "    if each_word not in stop_words:\n",
    "        if each_word in tf_score:\n",
    "            tf_score[each_word] += 1\n",
    "        else:\n",
    "            tf_score[each_word] = 1\n",
    "\n",
    "# Dividing by total_word_length for each dictionary element\n",
    "tf_score.update((x, y/int(total_word_length)) for x, y in tf_score.items())\n",
    "print(tf_score)"
   ]
  },
  {
   "cell_type": "code",
   "execution_count": 16,
   "metadata": {},
   "outputs": [],
   "source": [
    "def check_sent(word, sentences): \n",
    "    final = [all([w in x for w in word]) for x in sentences] \n",
    "    sent_len = [sentences[i] for i in range(0, len(final)) if final[i]]\n",
    "    return int(len(sent_len))"
   ]
  },
  {
   "cell_type": "code",
   "execution_count": 17,
   "metadata": {},
   "outputs": [
    {
     "output_type": "stream",
     "name": "stdout",
     "text": [
      "{'Lithium': 1.0986122886681098, 'ion': 1.0986122886681098, 'batteries:': 1.0986122886681098, 'A': 1.0986122886681098, 'lithium-ion': 1.0986122886681098, 'battery': 0.0, 'rechargeable': 1.0986122886681098, 'move': 1.0986122886681098, 'negative': 1.0986122886681098, 'electrode': 0.0, 'positive': 1.0986122886681098, 'type': 1.0986122886681098, 'lithium': 0.0, 'ions': 1.0986122886681098, 'Lision': 1.0986122886681098, 'batteries': 1.0986122886681098, 'use': 1.0986122886681098, 'intercalated': 0.0, 'discharge': 1.0986122886681098, 'back': 1.0986122886681098, 'charging-': 1.0986122886681098, 'metallic': 1.0986122886681098, 'lithiumn': 1.0986122886681098, 'compound': 1.0986122886681098, 'material,': 1.0986122886681098, 'compared': 1.0986122886681098, 'tge': 1.0986122886681098, 'used': 1.0986122886681098, 'nonsrechargeable': 1.0986122886681098, 'The': 1.0986122886681098, 'anode': 1.0986122886681098, 'mnade': 1.0986122886681098, 'lithium,': 1.0986122886681098, '(reversibly': 1.0986122886681098, 'included': 1.0986122886681098, 'cathode': 1.0986122886681098, 'ig': 1.0986122886681098, 'made': 1.0986122886681098, 'upfrom': 1.0986122886681098, 'layers)': 1.0986122886681098, 'graphite': 1.0986122886681098, 'oxide': 1.0986122886681098, 'Inaterialg,': 1.0986122886681098, 'compounds,': 1.0986122886681098, 'typically': 1.0986122886681098, 'three': 1.0986122886681098, 'electro-active': 1.0986122886681098, 'layered': 1.0986122886681098, 'Lithiun': 0.4054651081081644, 'cobalt': 1.0986122886681098, '(LiCo0,': 1.0986122886681098, 'mnanganese': 1.0986122886681098, '(LiMn,O': 1.0986122886681098, 'Lthiumn': 1.0986122886681098, 'nickeloxide': 1.0986122886681098, 'KLiNiO)': 1.0986122886681098, 'liberating': 1.0986122886681098}\n"
     ]
    }
   ],
   "source": [
    "idf_score = {}\n",
    "for each_word in total_words:\n",
    "    each_word = each_word.replace('.','')\n",
    "    if each_word not in stop_words:\n",
    "        if each_word in idf_score:\n",
    "            idf_score[each_word] = check_sent(each_word, total_sentences)\n",
    "        else:\n",
    "            idf_score[each_word] = 1\n",
    "\n",
    "# Performing a log and divide\n",
    "idf_score.update((x, math.log(int(total_sent_len)/y)) for x, y in idf_score.items())\n",
    "\n",
    "print(idf_score)"
   ]
  },
  {
   "cell_type": "code",
   "execution_count": 18,
   "metadata": {},
   "outputs": [
    {
     "output_type": "stream",
     "name": "stdout",
     "text": [
      "{'Lithium': 0.012072662512836372, 'ion': 0.012072662512836372, 'batteries:': 0.012072662512836372, 'A': 0.012072662512836372, 'lithium-ion': 0.012072662512836372, 'battery': 0.0, 'rechargeable': 0.012072662512836372, 'move': 0.012072662512836372, 'negative': 0.012072662512836372, 'electrode': 0.0, 'positive': 0.012072662512836372, 'type': 0.012072662512836372, 'lithium': 0.0, 'ions': 0.012072662512836372, 'Lision': 0.012072662512836372, 'batteries': 0.012072662512836372, 'use': 0.012072662512836372, 'intercalated': 0.0, 'discharge': 0.012072662512836372, 'back': 0.012072662512836372, 'charging-': 0.012072662512836372, 'metallic': 0.012072662512836372, 'lithiumn': 0.012072662512836372, 'compound': 0.012072662512836372, 'material,': 0.012072662512836372, 'compared': 0.012072662512836372, 'tge': 0.012072662512836372, 'used': 0.012072662512836372, 'nonsrechargeable': 0.012072662512836372, 'The': 0.024145325025672744, 'anode': 0.012072662512836372, 'mnade': 0.012072662512836372, 'lithium,': 0.012072662512836372, '(reversibly': 0.012072662512836372, 'included': 0.012072662512836372, 'cathode': 0.012072662512836372, 'ig': 0.012072662512836372, 'made': 0.012072662512836372, 'upfrom': 0.012072662512836372, 'layers)': 0.012072662512836372, 'graphite': 0.012072662512836372, 'oxide': 0.03621798753850911, 'Inaterialg,': 0.012072662512836372, 'compounds,': 0.012072662512836372, 'typically': 0.012072662512836372, 'three': 0.012072662512836372, 'electro-active': 0.012072662512836372, 'layered': 0.012072662512836372, 'Lithiun': 0.008911321057322294, 'cobalt': 0.012072662512836372, '(LiCo0,': 0.012072662512836372, 'mnanganese': 0.012072662512836372, '(LiMn,O': 0.012072662512836372, 'Lthiumn': 0.012072662512836372, 'nickeloxide': 0.012072662512836372, 'KLiNiO)': 0.012072662512836372, 'liberating': 0.012072662512836372}\n"
     ]
    }
   ],
   "source": [
    "tf_idf_score = {key: tf_score[key] * idf_score.get(key, 0) for key in tf_score.keys()}\n",
    "print(tf_idf_score)"
   ]
  },
  {
   "cell_type": "code",
   "execution_count": 19,
   "metadata": {},
   "outputs": [],
   "source": [
    "def get_top_n(dict_elem, n):\n",
    "    result = dict(sorted(dict_elem.items(), key = itemgetter(1), reverse = True)[:n]) \n",
    "    return result"
   ]
  },
  {
   "cell_type": "code",
   "execution_count": 20,
   "metadata": {},
   "outputs": [
    {
     "output_type": "stream",
     "name": "stdout",
     "text": [
      "{'oxide': 0.03621798753850911, 'The': 0.024145325025672744, 'Lithium': 0.012072662512836372, 'ion': 0.012072662512836372, 'batteries:': 0.012072662512836372}\n"
     ]
    }
   ],
   "source": [
    "print(get_top_n(tf_idf_score, 5))"
   ]
  },
  {
   "cell_type": "code",
   "execution_count": null,
   "metadata": {},
   "outputs": [],
   "source": []
  }
 ]
}